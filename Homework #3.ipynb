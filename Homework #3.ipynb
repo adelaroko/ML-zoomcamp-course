{
 "cells": [
  {
   "cell_type": "code",
   "execution_count": 52,
   "id": "48069005",
   "metadata": {},
   "outputs": [],
   "source": [
    "import pandas as pd\n",
    "import numpy as np"
   ]
  },
  {
   "cell_type": "code",
   "execution_count": 53,
   "id": "1484699f",
   "metadata": {},
   "outputs": [
    {
     "name": "stderr",
     "output_type": "stream",
     "text": [
      "--2021-09-26 20:13:11--  https://raw.githubusercontent.com/alexeygrigorev/datasets/master/AB_NYC_2019.csv\n",
      "Resolving raw.githubusercontent.com (raw.githubusercontent.com)... 185.199.108.133, 185.199.109.133, 185.199.110.133, ...\n",
      "Connecting to raw.githubusercontent.com (raw.githubusercontent.com)|185.199.108.133|:443... connected.\n",
      "HTTP request sent, awaiting response... 200 OK\n",
      "Length: 7077973 (6,8M) [text/plain]\n",
      "Saving to: 'AB_NYC_2019.csv.1'\n",
      "\n",
      "     0K .......... .......... .......... .......... ..........  0%  796K 9s\n",
      "    50K .......... .......... .......... .......... ..........  1%  936K 8s\n",
      "   100K .......... .......... .......... .......... ..........  2% 1,06M 7s\n",
      "   150K .......... .......... .......... .......... ..........  2% 1,48M 7s\n",
      "   200K .......... .......... .......... .......... ..........  3% 1,18M 6s\n",
      "   250K .......... .......... .......... .......... ..........  4% 1,26M 6s\n",
      "   300K .......... .......... .......... .......... ..........  5% 1,18M 6s\n",
      "   350K .......... .......... .......... .......... ..........  5% 1,16M 6s\n",
      "   400K .......... .......... .......... .......... ..........  6% 1,33M 6s\n",
      "   450K .......... .......... .......... .......... ..........  7%  905K 6s\n",
      "   500K .......... .......... .......... .......... ..........  7% 1,17M 6s\n",
      "   550K .......... .......... .......... .......... ..........  8% 1,32M 6s\n",
      "   600K .......... .......... .......... .......... ..........  9% 1,20M 5s\n",
      "   650K .......... .......... .......... .......... .......... 10% 1,24M 5s\n",
      "   700K .......... .......... .......... .......... .......... 10% 1,10M 5s\n",
      "   750K .......... .......... .......... .......... .......... 11% 1,38M 5s\n",
      "   800K .......... .......... .......... .......... .......... 12% 1,22M 5s\n",
      "   850K .......... .......... .......... .......... .......... 13%  878K 5s\n",
      "   900K .......... .......... .......... .......... .......... 13% 1,30M 5s\n",
      "   950K .......... .......... .......... .......... .......... 14% 1,24M 5s\n",
      "  1000K .......... .......... .......... .......... .......... 15% 1,24M 5s\n",
      "  1050K .......... .......... .......... .......... .......... 15% 1,17M 5s\n",
      "  1100K .......... .......... .......... .......... .......... 16% 1,26M 5s\n",
      "  1150K .......... .......... .......... .......... .......... 17% 1,17M 5s\n",
      "  1200K .......... .......... .......... .......... .......... 18% 1,14M 5s\n",
      "  1250K .......... .......... .......... .......... .......... 18%  997K 5s\n",
      "  1300K .......... .......... .......... .......... .......... 19% 1,29M 5s\n",
      "  1350K .......... .......... .......... .......... .......... 20% 1,14M 5s\n",
      "  1400K .......... .......... .......... .......... .......... 20% 1,27M 5s\n",
      "  1450K .......... .......... .......... .......... .......... 21% 1,25M 5s\n",
      "  1500K .......... .......... .......... .......... .......... 22% 1,22M 5s\n",
      "  1550K .......... .......... .......... .......... .......... 23% 1,19M 5s\n",
      "  1600K .......... .......... .......... .......... .......... 23% 1,22M 4s\n",
      "  1650K .......... .......... .......... .......... .......... 24%  951K 4s\n",
      "  1700K .......... .......... .......... .......... .......... 25% 1,24M 4s\n",
      "  1750K .......... .......... .......... .......... .......... 26% 1,21M 4s\n",
      "  1800K .......... .......... .......... .......... .......... 26% 1,07M 4s\n",
      "  1850K .......... .......... .......... .......... .......... 27% 1,38M 4s\n",
      "  1900K .......... .......... .......... .......... .......... 28% 1,22M 4s\n",
      "  1950K .......... .......... .......... .......... .......... 28% 1,25M 4s\n",
      "  2000K .......... .......... .......... .......... .......... 29% 1,16M 4s\n",
      "  2050K .......... .......... .......... .......... .......... 30%  927K 4s\n",
      "  2100K .......... .......... .......... .......... .......... 31% 1,28M 4s\n",
      "  2150K .......... .......... .......... .......... .......... 31% 1,22M 4s\n",
      "  2200K .......... .......... .......... .......... .......... 32% 1,23M 4s\n",
      "  2250K .......... .......... .......... .......... .......... 33% 1,24M 4s\n",
      "  2300K .......... .......... .......... .......... .......... 33% 1,07M 4s\n",
      "  2350K .......... .......... .......... .......... .......... 34% 1,38M 4s\n",
      "  2400K .......... .......... .......... .......... .......... 35% 1,26M 4s\n",
      "  2450K .......... .......... .......... .......... .......... 36%  930K 4s\n",
      "  2500K .......... .......... .......... .......... .......... 36% 1,23M 4s\n",
      "  2550K .......... .......... .......... .......... .......... 37% 1,25M 4s\n",
      "  2600K .......... .......... .......... .......... .......... 38% 1,14M 4s\n",
      "  2650K .......... .......... .......... .......... .......... 39% 1,24M 4s\n",
      "  2700K .......... .......... .......... .......... .......... 39% 1,25M 4s\n",
      "  2750K .......... .......... .......... .......... .......... 40% 1,20M 3s\n",
      "  2800K .......... .......... .......... .......... .......... 41% 1,23M 3s\n",
      "  2850K .......... .......... .......... .......... .......... 41%  932K 3s\n",
      "  2900K .......... .......... .......... .......... .......... 42% 1,22M 3s\n",
      "  2950K .......... .......... .......... .......... .......... 43% 1,23M 3s\n",
      "  3000K .......... .......... .......... .......... .......... 44% 1,24M 3s\n",
      "  3050K .......... .......... .......... .......... .......... 44% 1,13M 3s\n",
      "  3100K .......... .......... .......... .......... .......... 45% 1,32M 3s\n",
      "  3150K .......... .......... .......... .......... .......... 46% 1,23M 3s\n",
      "  3200K .......... .......... .......... .......... .......... 47% 1,22M 3s\n",
      "  3250K .......... .......... .......... .......... .......... 47%  936K 3s\n",
      "  3300K .......... .......... .......... .......... .......... 48% 1,22M 3s\n",
      "  3350K .......... .......... .......... .......... .......... 49% 1,19M 3s\n",
      "  3400K .......... .......... .......... .......... .......... 49% 1,11M 3s\n",
      "  3450K .......... .......... .......... .......... .......... 50% 1,40M 3s\n",
      "  3500K .......... .......... .......... .......... .......... 51% 1,19M 3s\n",
      "  3550K .......... .......... .......... .......... .......... 52% 1,23M 3s\n",
      "  3600K .......... .......... .......... .......... .......... 52% 1,22M 3s\n",
      "  3650K .......... .......... .......... .......... .......... 53%  915K 3s\n",
      "  3700K .......... .......... .......... .......... .......... 54% 1,27M 3s\n",
      "  3750K .......... .......... .......... .......... .......... 54% 1,25M 3s\n",
      "  3800K .......... .......... .......... .......... .......... 55% 1,19M 3s\n",
      "  3850K .......... .......... .......... .......... .......... 56% 1,22M 3s\n",
      "  3900K .......... .......... .......... .......... .......... 57% 1,12M 2s\n",
      "  3950K .......... .......... .......... .......... .......... 57% 1,37M 2s\n",
      "  4000K .......... .......... .......... .......... .......... 58% 1,19M 2s\n",
      "  4050K .......... .......... .......... .......... .......... 59%  956K 2s\n",
      "  4100K .......... .......... .......... .......... .......... 60% 1,20M 2s\n",
      "  4150K .......... .......... .......... .......... .......... 60% 1,23M 2s\n",
      "  4200K .......... .......... .......... .......... .......... 61% 1,23M 2s\n",
      "  4250K .......... .......... .......... .......... .......... 62% 1,19M 2s\n",
      "  4300K .......... .......... .......... .......... .......... 62% 1,23M 2s\n",
      "  4350K .......... .......... .......... .......... .......... 63% 1,24M 2s\n",
      "  4400K .......... .......... .......... .......... .......... 64% 1,23M 2s\n",
      "  4450K .......... .......... .......... .......... .......... 65%  925K 2s\n",
      "  4500K .......... .......... .......... .......... .......... 65% 1,06M 2s\n",
      "  4550K .......... .......... .......... .......... .......... 66% 1,44M 2s\n",
      "  4600K .......... .......... .......... .......... .......... 67% 1,23M 2s\n",
      "  4650K .......... .......... .......... .......... .......... 67% 1,23M 2s\n",
      "  4700K .......... .......... .......... .......... .......... 68% 1,11M 2s\n",
      "  4750K .......... .......... .......... .......... .......... 69% 1,21M 2s\n",
      "  4800K .......... .......... .......... .......... .......... 70% 1,34M 2s\n",
      "  4850K .......... .......... .......... .......... .......... 70%  928K 2s\n",
      "  4900K .......... .......... .......... .......... .......... 71% 1,24M 2s\n",
      "  4950K .......... .......... .......... .......... .......... 72% 1,25M 2s\n",
      "  5000K .......... .......... .......... .......... .......... 73% 1,13M 2s\n",
      "  5050K .......... .......... .......... .......... .......... 73% 1,28M 2s\n",
      "  5100K .......... .......... .......... .......... .......... 74% 1,23M 1s\n",
      "  5150K .......... .......... .......... .......... .......... 75% 1,24M 1s\n",
      "  5200K .......... .......... .......... .......... .......... 75% 1,18M 1s\n",
      "  5250K .......... .......... .......... .......... .......... 76%  961K 1s\n",
      "  5300K .......... .......... .......... .......... .......... 77% 1,20M 1s\n",
      "  5350K .......... .......... .......... .......... .......... 78% 1,22M 1s\n",
      "  5400K .......... .......... .......... .......... .......... 78% 1,19M 1s\n",
      "  5450K .......... .......... .......... .......... .......... 79% 1,27M 1s\n",
      "  5500K .......... .......... .......... .......... .......... 80% 1,07M 1s\n",
      "  5550K .......... .......... .......... .......... .......... 81% 1,24M 1s\n",
      "  5600K .......... .......... .......... .......... .......... 81% 1,38M 1s\n",
      "  5650K .......... .......... .......... .......... .......... 82%  926K 1s\n",
      "  5700K .......... .......... .......... .......... .......... 83% 1,24M 1s\n",
      "  5750K .......... .......... .......... .......... .......... 83% 1,23M 1s\n",
      "  5800K .......... .......... .......... .......... .......... 84% 1,19M 1s\n",
      "  5850K .......... .......... .......... .......... .......... 85% 1,13M 1s\n",
      "  5900K .......... .......... .......... .......... .......... 86% 1,31M 1s\n",
      "  5950K .......... .......... .......... .......... .......... 86% 1,16M 1s\n",
      "  6000K .......... .......... .......... .......... .......... 87% 1,26M 1s\n",
      "  6050K .......... .......... .......... .......... .......... 88%  937K 1s\n",
      "  6100K .......... .......... .......... .......... .......... 88% 1,11M 1s\n",
      "  6150K .......... .......... .......... .......... .......... 89% 1,39M 1s\n",
      "  6200K .......... .......... .......... .......... .......... 90% 1,23M 1s\n",
      "  6250K .......... .......... .......... .......... .......... 91% 1,20M 1s\n",
      "  6300K .......... .......... .......... .......... .......... 91% 1,15M 0s\n",
      "  6350K .......... .......... .......... .......... .......... 92% 1,23M 0s\n",
      "  6400K .......... .......... .......... .......... .......... 93% 1,33M 0s\n",
      "  6450K .......... .......... .......... .......... .......... 94%  919K 0s\n",
      "  6500K .......... .......... .......... .......... .......... 94% 1,24M 0s\n",
      "  6550K .......... .......... .......... .......... .......... 95% 1,15M 0s\n",
      "  6600K .......... .......... .......... .......... .......... 96% 1,21M 0s\n",
      "  6650K .......... .......... .......... .......... .......... 96% 1,32M 0s\n",
      "  6700K .......... .......... .......... .......... .......... 97% 1,18M 0s\n",
      "  6750K .......... .......... .......... .......... .......... 98% 1,22M 0s\n"
     ]
    }
   ],
   "source": [
    "data = 'https://raw.githubusercontent.com/alexeygrigorev/datasets/master/AB_NYC_2019.csv'\n",
    "!wget $data"
   ]
  },
  {
   "cell_type": "code",
   "execution_count": 54,
   "id": "5fd46c52",
   "metadata": {},
   "outputs": [
    {
     "name": "stderr",
     "output_type": "stream",
     "text": [
      "  6800K .......... .......... .......... .......... .......... 99% 1,24M 0s\n",
      "  6850K .......... .......... .......... .......... .......... 99%  968K 0s\n",
      "  6900K .......... ..                                         100% 95,3M=5,8s\n",
      "\n",
      "2021-09-26 20:13:17 (1,17 MB/s) - 'AB_NYC_2019.csv.1' saved [7077973/7077973]\n",
      "\n"
     ]
    }
   ],
   "source": [
    "df = pd.read_csv('AB_NYC_2019.csv')"
   ]
  },
  {
   "cell_type": "code",
   "execution_count": 55,
   "id": "a0c5c4ff",
   "metadata": {},
   "outputs": [],
   "source": [
    "features = ['neighbourhood_group',\n",
    "'room_type',\n",
    "'latitude',\n",
    "'longitude',\n",
    "'price',\n",
    "'minimum_nights',\n",
    "'number_of_reviews',\n",
    "'reviews_per_month',\n",
    "'calculated_host_listings_count',\n",
    "'availability_365']"
   ]
  },
  {
   "cell_type": "code",
   "execution_count": 56,
   "id": "306bc147",
   "metadata": {},
   "outputs": [],
   "source": [
    "df['reviews_per_month'] = df['reviews_per_month'].fillna(0)"
   ]
  },
  {
   "cell_type": "code",
   "execution_count": 57,
   "id": "4f6de739",
   "metadata": {},
   "outputs": [
    {
     "data": {
      "text/plain": [
       "neighbourhood_group               0\n",
       "room_type                         0\n",
       "latitude                          0\n",
       "longitude                         0\n",
       "price                             0\n",
       "minimum_nights                    0\n",
       "number_of_reviews                 0\n",
       "reviews_per_month                 0\n",
       "calculated_host_listings_count    0\n",
       "availability_365                  0\n",
       "dtype: int64"
      ]
     },
     "execution_count": 57,
     "metadata": {},
     "output_type": "execute_result"
    }
   ],
   "source": [
    "df[features].isnull().sum()"
   ]
  },
  {
   "cell_type": "markdown",
   "id": "e34dff34",
   "metadata": {},
   "source": [
    "### Question 1"
   ]
  },
  {
   "cell_type": "code",
   "execution_count": 58,
   "id": "55ddf01a",
   "metadata": {},
   "outputs": [
    {
     "data": {
      "text/plain": [
       "0    Manhattan\n",
       "dtype: object"
      ]
     },
     "execution_count": 58,
     "metadata": {},
     "output_type": "execute_result"
    }
   ],
   "source": [
    "df_new = df[features]\n",
    "df_new['neighbourhood_group'].mode()"
   ]
  },
  {
   "cell_type": "code",
   "execution_count": 59,
   "id": "783e6f3b",
   "metadata": {},
   "outputs": [],
   "source": [
    "from sklearn.model_selection import train_test_split"
   ]
  },
  {
   "cell_type": "code",
   "execution_count": 60,
   "id": "5306f6f1",
   "metadata": {},
   "outputs": [],
   "source": [
    "df_full_train, df_test = train_test_split(df_new, test_size=0.2, random_state=42)\n",
    "df_train, df_val = train_test_split(df_full_train, test_size=0.25, random_state=42)"
   ]
  },
  {
   "cell_type": "code",
   "execution_count": 61,
   "id": "4a913c8c",
   "metadata": {},
   "outputs": [],
   "source": [
    "df_train = df_train.reset_index(drop=True)\n",
    "df_val = df_val.reset_index(drop=True)\n",
    "df_test = df_test.reset_index(drop=True)"
   ]
  },
  {
   "cell_type": "code",
   "execution_count": 62,
   "id": "1482007d",
   "metadata": {},
   "outputs": [],
   "source": [
    "y_train = df_train.price.values\n",
    "y_val = df_val.price.values\n",
    "y_test = df_test.price.values"
   ]
  },
  {
   "cell_type": "code",
   "execution_count": 64,
   "id": "5a0d8f1d",
   "metadata": {},
   "outputs": [],
   "source": [
    "del df_train['price']\n",
    "del df_val['price']\n",
    "del df_test['price']"
   ]
  },
  {
   "cell_type": "markdown",
   "id": "b1afd03f",
   "metadata": {},
   "source": [
    "### Question 2"
   ]
  },
  {
   "cell_type": "code",
   "execution_count": 73,
   "id": "7edf3d29",
   "metadata": {},
   "outputs": [],
   "source": [
    "numerical = ['latitude','longitude','minimum_nights','number_of_reviews',\n",
    "     'reviews_per_month','calculated_host_listings_count','availability_365']"
   ]
  },
  {
   "cell_type": "code",
   "execution_count": 81,
   "id": "d08e5b60",
   "metadata": {},
   "outputs": [
    {
     "data": {
      "text/html": [
       "<div>\n",
       "<style scoped>\n",
       "    .dataframe tbody tr th:only-of-type {\n",
       "        vertical-align: middle;\n",
       "    }\n",
       "\n",
       "    .dataframe tbody tr th {\n",
       "        vertical-align: top;\n",
       "    }\n",
       "\n",
       "    .dataframe thead th {\n",
       "        text-align: right;\n",
       "    }\n",
       "</style>\n",
       "<table border=\"1\" class=\"dataframe\">\n",
       "  <thead>\n",
       "    <tr style=\"text-align: right;\">\n",
       "      <th></th>\n",
       "      <th>latitude</th>\n",
       "      <th>longitude</th>\n",
       "      <th>minimum_nights</th>\n",
       "      <th>number_of_reviews</th>\n",
       "      <th>reviews_per_month</th>\n",
       "      <th>calculated_host_listings_count</th>\n",
       "      <th>availability_365</th>\n",
       "    </tr>\n",
       "  </thead>\n",
       "  <tbody>\n",
       "    <tr>\n",
       "      <th>latitude</th>\n",
       "      <td>1.000000</td>\n",
       "      <td>0.080301</td>\n",
       "      <td>0.027441</td>\n",
       "      <td>-0.006246</td>\n",
       "      <td>-0.007159</td>\n",
       "      <td>0.019375</td>\n",
       "      <td>-0.005891</td>\n",
       "    </tr>\n",
       "    <tr>\n",
       "      <th>longitude</th>\n",
       "      <td>0.080301</td>\n",
       "      <td>1.000000</td>\n",
       "      <td>-0.060660</td>\n",
       "      <td>0.055084</td>\n",
       "      <td>0.134642</td>\n",
       "      <td>-0.117041</td>\n",
       "      <td>0.083666</td>\n",
       "    </tr>\n",
       "    <tr>\n",
       "      <th>minimum_nights</th>\n",
       "      <td>0.027441</td>\n",
       "      <td>-0.060660</td>\n",
       "      <td>1.000000</td>\n",
       "      <td>-0.076020</td>\n",
       "      <td>-0.120703</td>\n",
       "      <td>0.118647</td>\n",
       "      <td>0.138901</td>\n",
       "    </tr>\n",
       "    <tr>\n",
       "      <th>number_of_reviews</th>\n",
       "      <td>-0.006246</td>\n",
       "      <td>0.055084</td>\n",
       "      <td>-0.076020</td>\n",
       "      <td>1.000000</td>\n",
       "      <td>0.590374</td>\n",
       "      <td>-0.073167</td>\n",
       "      <td>0.174477</td>\n",
       "    </tr>\n",
       "    <tr>\n",
       "      <th>reviews_per_month</th>\n",
       "      <td>-0.007159</td>\n",
       "      <td>0.134642</td>\n",
       "      <td>-0.120703</td>\n",
       "      <td>0.590374</td>\n",
       "      <td>1.000000</td>\n",
       "      <td>-0.048767</td>\n",
       "      <td>0.165376</td>\n",
       "    </tr>\n",
       "    <tr>\n",
       "      <th>calculated_host_listings_count</th>\n",
       "      <td>0.019375</td>\n",
       "      <td>-0.117041</td>\n",
       "      <td>0.118647</td>\n",
       "      <td>-0.073167</td>\n",
       "      <td>-0.048767</td>\n",
       "      <td>1.000000</td>\n",
       "      <td>0.225913</td>\n",
       "    </tr>\n",
       "    <tr>\n",
       "      <th>availability_365</th>\n",
       "      <td>-0.005891</td>\n",
       "      <td>0.083666</td>\n",
       "      <td>0.138901</td>\n",
       "      <td>0.174477</td>\n",
       "      <td>0.165376</td>\n",
       "      <td>0.225913</td>\n",
       "      <td>1.000000</td>\n",
       "    </tr>\n",
       "  </tbody>\n",
       "</table>\n",
       "</div>"
      ],
      "text/plain": [
       "                                latitude  longitude  minimum_nights  \\\n",
       "latitude                        1.000000   0.080301        0.027441   \n",
       "longitude                       0.080301   1.000000       -0.060660   \n",
       "minimum_nights                  0.027441  -0.060660        1.000000   \n",
       "number_of_reviews              -0.006246   0.055084       -0.076020   \n",
       "reviews_per_month              -0.007159   0.134642       -0.120703   \n",
       "calculated_host_listings_count  0.019375  -0.117041        0.118647   \n",
       "availability_365               -0.005891   0.083666        0.138901   \n",
       "\n",
       "                                number_of_reviews  reviews_per_month  \\\n",
       "latitude                                -0.006246          -0.007159   \n",
       "longitude                                0.055084           0.134642   \n",
       "minimum_nights                          -0.076020          -0.120703   \n",
       "number_of_reviews                        1.000000           0.590374   \n",
       "reviews_per_month                        0.590374           1.000000   \n",
       "calculated_host_listings_count          -0.073167          -0.048767   \n",
       "availability_365                         0.174477           0.165376   \n",
       "\n",
       "                                calculated_host_listings_count  \\\n",
       "latitude                                              0.019375   \n",
       "longitude                                            -0.117041   \n",
       "minimum_nights                                        0.118647   \n",
       "number_of_reviews                                    -0.073167   \n",
       "reviews_per_month                                    -0.048767   \n",
       "calculated_host_listings_count                        1.000000   \n",
       "availability_365                                      0.225913   \n",
       "\n",
       "                                availability_365  \n",
       "latitude                               -0.005891  \n",
       "longitude                               0.083666  \n",
       "minimum_nights                          0.138901  \n",
       "number_of_reviews                       0.174477  \n",
       "reviews_per_month                       0.165376  \n",
       "calculated_host_listings_count          0.225913  \n",
       "availability_365                        1.000000  "
      ]
     },
     "execution_count": 81,
     "metadata": {},
     "output_type": "execute_result"
    }
   ],
   "source": [
    "cm = df_train[numerical].corr()\n",
    "cm"
   ]
  },
  {
   "cell_type": "code",
   "execution_count": 115,
   "id": "0d6d0159",
   "metadata": {},
   "outputs": [
    {
     "data": {
      "text/html": [
       "<div>\n",
       "<style scoped>\n",
       "    .dataframe tbody tr th:only-of-type {\n",
       "        vertical-align: middle;\n",
       "    }\n",
       "\n",
       "    .dataframe tbody tr th {\n",
       "        vertical-align: top;\n",
       "    }\n",
       "\n",
       "    .dataframe thead th {\n",
       "        text-align: right;\n",
       "    }\n",
       "</style>\n",
       "<table border=\"1\" class=\"dataframe\">\n",
       "  <thead>\n",
       "    <tr style=\"text-align: right;\">\n",
       "      <th></th>\n",
       "      <th>neighbourhood_group</th>\n",
       "      <th>room_type</th>\n",
       "      <th>latitude</th>\n",
       "      <th>longitude</th>\n",
       "      <th>minimum_nights</th>\n",
       "      <th>number_of_reviews</th>\n",
       "      <th>reviews_per_month</th>\n",
       "      <th>calculated_host_listings_count</th>\n",
       "      <th>availability_365</th>\n",
       "      <th>above_average</th>\n",
       "    </tr>\n",
       "  </thead>\n",
       "  <tbody>\n",
       "    <tr>\n",
       "      <th>0</th>\n",
       "      <td>Brooklyn</td>\n",
       "      <td>Entire home/apt</td>\n",
       "      <td>40.72760</td>\n",
       "      <td>-73.94495</td>\n",
       "      <td>3</td>\n",
       "      <td>29</td>\n",
       "      <td>0.70</td>\n",
       "      <td>13</td>\n",
       "      <td>50</td>\n",
       "      <td>0</td>\n",
       "    </tr>\n",
       "    <tr>\n",
       "      <th>1</th>\n",
       "      <td>Manhattan</td>\n",
       "      <td>Private room</td>\n",
       "      <td>40.70847</td>\n",
       "      <td>-74.00498</td>\n",
       "      <td>1</td>\n",
       "      <td>0</td>\n",
       "      <td>0.00</td>\n",
       "      <td>1</td>\n",
       "      <td>7</td>\n",
       "      <td>0</td>\n",
       "    </tr>\n",
       "    <tr>\n",
       "      <th>2</th>\n",
       "      <td>Bronx</td>\n",
       "      <td>Entire home/apt</td>\n",
       "      <td>40.83149</td>\n",
       "      <td>-73.92766</td>\n",
       "      <td>40</td>\n",
       "      <td>0</td>\n",
       "      <td>0.00</td>\n",
       "      <td>1</td>\n",
       "      <td>0</td>\n",
       "      <td>0</td>\n",
       "    </tr>\n",
       "    <tr>\n",
       "      <th>3</th>\n",
       "      <td>Brooklyn</td>\n",
       "      <td>Entire home/apt</td>\n",
       "      <td>40.66448</td>\n",
       "      <td>-73.99407</td>\n",
       "      <td>2</td>\n",
       "      <td>3</td>\n",
       "      <td>0.08</td>\n",
       "      <td>1</td>\n",
       "      <td>0</td>\n",
       "      <td>0</td>\n",
       "    </tr>\n",
       "    <tr>\n",
       "      <th>4</th>\n",
       "      <td>Manhattan</td>\n",
       "      <td>Private room</td>\n",
       "      <td>40.74118</td>\n",
       "      <td>-74.00012</td>\n",
       "      <td>1</td>\n",
       "      <td>48</td>\n",
       "      <td>1.80</td>\n",
       "      <td>2</td>\n",
       "      <td>67</td>\n",
       "      <td>0</td>\n",
       "    </tr>\n",
       "  </tbody>\n",
       "</table>\n",
       "</div>"
      ],
      "text/plain": [
       "  neighbourhood_group        room_type  latitude  longitude  minimum_nights  \\\n",
       "0            Brooklyn  Entire home/apt  40.72760  -73.94495               3   \n",
       "1           Manhattan     Private room  40.70847  -74.00498               1   \n",
       "2               Bronx  Entire home/apt  40.83149  -73.92766              40   \n",
       "3            Brooklyn  Entire home/apt  40.66448  -73.99407               2   \n",
       "4           Manhattan     Private room  40.74118  -74.00012               1   \n",
       "\n",
       "   number_of_reviews  reviews_per_month  calculated_host_listings_count  \\\n",
       "0                 29               0.70                              13   \n",
       "1                  0               0.00                               1   \n",
       "2                  0               0.00                               1   \n",
       "3                  3               0.08                               1   \n",
       "4                 48               1.80                               2   \n",
       "\n",
       "   availability_365  above_average  \n",
       "0                50              0  \n",
       "1                 7              0  \n",
       "2                 0              0  \n",
       "3                 0              0  \n",
       "4                67              0  "
      ]
     },
     "execution_count": 115,
     "metadata": {},
     "output_type": "execute_result"
    }
   ],
   "source": [
    "df_train['above_average'] = (y_train >= 152).astype(int)\n",
    "df_train.head()"
   ]
  },
  {
   "cell_type": "markdown",
   "id": "1ee1fa75",
   "metadata": {},
   "source": [
    "### Question 3"
   ]
  },
  {
   "cell_type": "code",
   "execution_count": 105,
   "id": "108c224b",
   "metadata": {},
   "outputs": [],
   "source": [
    "from  sklearn.metrics import mutual_info_score"
   ]
  },
  {
   "cell_type": "code",
   "execution_count": 106,
   "id": "bdbb4eb3",
   "metadata": {},
   "outputs": [],
   "source": [
    "categorical = ['neighbourhood_group','room_type']"
   ]
  },
  {
   "cell_type": "code",
   "execution_count": 119,
   "id": "bbc861dc",
   "metadata": {},
   "outputs": [],
   "source": [
    "def mutual_info_price_score(series):\n",
    "    return mutual_info_score(series, df_train['above_average'])"
   ]
  },
  {
   "cell_type": "code",
   "execution_count": 121,
   "id": "b6face0c",
   "metadata": {},
   "outputs": [
    {
     "data": {
      "text/plain": [
       "neighbourhood_group    0.05\n",
       "room_type              0.14\n",
       "dtype: float64"
      ]
     },
     "execution_count": 121,
     "metadata": {},
     "output_type": "execute_result"
    }
   ],
   "source": [
    "round(df_train[categorical].apply(mutual_info_price_score),2)"
   ]
  },
  {
   "cell_type": "markdown",
   "id": "54ed163a",
   "metadata": {},
   "source": [
    "### Question 4"
   ]
  },
  {
   "cell_type": "code",
   "execution_count": 123,
   "id": "59942a06",
   "metadata": {},
   "outputs": [],
   "source": [
    "from sklearn.linear_model import LogisticRegression\n",
    "from sklearn.feature_extraction import DictVectorizer"
   ]
  },
  {
   "cell_type": "code",
   "execution_count": 129,
   "id": "41022139",
   "metadata": {},
   "outputs": [],
   "source": [
    "dv = DictVectorizer(sparse = False)\n",
    "\n",
    "train_dict = df_train[categorical + numerical].to_dict(orient='records')\n",
    "X_train = dv.fit_transform(train_dict)\n",
    "\n",
    "val_dict = df_val[categorical + numerical].to_dict(orient='records')\n",
    "X_val = dv.transform(val_dict)"
   ]
  },
  {
   "cell_type": "code",
   "execution_count": 145,
   "id": "07d211e6",
   "metadata": {},
   "outputs": [],
   "source": [
    "y_train_bin = df_train['above_average'].values"
   ]
  },
  {
   "cell_type": "code",
   "execution_count": 147,
   "id": "f2175fe2",
   "metadata": {},
   "outputs": [
    {
     "data": {
      "text/plain": [
       "LogisticRegression(random_state=42, solver='liblinear')"
      ]
     },
     "execution_count": 147,
     "metadata": {},
     "output_type": "execute_result"
    }
   ],
   "source": [
    "model = LogisticRegression(solver='liblinear', C=1.0, random_state=42)\n",
    "model.fit(X_train, y_train_bin)"
   ]
  },
  {
   "cell_type": "code",
   "execution_count": 196,
   "id": "1a05cfc0",
   "metadata": {},
   "outputs": [],
   "source": [
    "y_pred = model.predict_proba(X_val)[:, 1]"
   ]
  },
  {
   "cell_type": "code",
   "execution_count": 199,
   "id": "e41b7ca8",
   "metadata": {},
   "outputs": [],
   "source": [
    "price_above_average = y_pred >= y_train_bin.mean()"
   ]
  },
  {
   "cell_type": "code",
   "execution_count": 200,
   "id": "a43425cb",
   "metadata": {},
   "outputs": [],
   "source": [
    "y_val_bin = (y_val >= 152)"
   ]
  },
  {
   "cell_type": "code",
   "execution_count": 202,
   "id": "e61f9532",
   "metadata": {},
   "outputs": [
    {
     "data": {
      "text/plain": [
       "0.75"
      ]
     },
     "execution_count": 202,
     "metadata": {},
     "output_type": "execute_result"
    }
   ],
   "source": [
    "accuracy = (y_val_bin == price_above_average).mean()\n",
    "accuracy.round(2)"
   ]
  },
  {
   "cell_type": "markdown",
   "id": "7de188c9",
   "metadata": {},
   "source": [
    "### Question 5"
   ]
  },
  {
   "cell_type": "code",
   "execution_count": 226,
   "id": "7504e7d0",
   "metadata": {},
   "outputs": [],
   "source": [
    "small = ['neighbourhood_group', 'room_type', 'number_of_reviews', 'reviews_per_month']"
   ]
  },
  {
   "cell_type": "code",
   "execution_count": 208,
   "id": "c9126dc1",
   "metadata": {},
   "outputs": [],
   "source": [
    "dicts_train_small = df_train[small].to_dict(orient = 'records')\n",
    "dicts_val_small = df_val[small].to_dict(orient = 'records')"
   ]
  },
  {
   "cell_type": "code",
   "execution_count": 209,
   "id": "96edc168",
   "metadata": {},
   "outputs": [
    {
     "data": {
      "text/plain": [
       "DictVectorizer(sparse=False)"
      ]
     },
     "execution_count": 209,
     "metadata": {},
     "output_type": "execute_result"
    }
   ],
   "source": [
    "dv_small = DictVectorizer(sparse = False)\n",
    "dv_small.fit(dicts_train_small)"
   ]
  },
  {
   "cell_type": "code",
   "execution_count": 212,
   "id": "2501e3e9",
   "metadata": {},
   "outputs": [],
   "source": [
    "X_train_small = dv_small.transform(dicts_train_small)"
   ]
  },
  {
   "cell_type": "code",
   "execution_count": 213,
   "id": "88a9c76b",
   "metadata": {},
   "outputs": [
    {
     "data": {
      "text/plain": [
       "LogisticRegression(random_state=42, solver='liblinear')"
      ]
     },
     "execution_count": 213,
     "metadata": {},
     "output_type": "execute_result"
    }
   ],
   "source": [
    "model_small = LogisticRegression(solver='liblinear', C=1.0, random_state=42)\n",
    "model_small.fit(X_train_small, y_train_bin)"
   ]
  },
  {
   "cell_type": "code",
   "execution_count": 219,
   "id": "3622b016",
   "metadata": {},
   "outputs": [],
   "source": [
    "X_val_small = dv_small.transform(dicts_val_small)\n",
    "y_pred = model_small.predict_proba(X_val_small)[:, 1]"
   ]
  },
  {
   "cell_type": "code",
   "execution_count": 220,
   "id": "0111d202",
   "metadata": {},
   "outputs": [],
   "source": [
    "price_above_average = y_pred >= y_train_bin.mean()"
   ]
  },
  {
   "cell_type": "code",
   "execution_count": 236,
   "id": "dbf99a69",
   "metadata": {},
   "outputs": [
    {
     "data": {
      "text/plain": [
       "0.7496676551794662"
      ]
     },
     "execution_count": 236,
     "metadata": {},
     "output_type": "execute_result"
    }
   ],
   "source": [
    "original_accuracy = ((y_val >=152) == price_above_average).mean()\n",
    "original_accuracy"
   ]
  },
  {
   "cell_type": "code",
   "execution_count": 242,
   "id": "ff5398d1",
   "metadata": {},
   "outputs": [
    {
     "name": "stdout",
     "output_type": "stream",
     "text": [
      "The model accuracy without the feature reviews_per_month is:  0.7543716126393292\n",
      "The accuracy difference is:  0.0\n"
     ]
    }
   ],
   "source": [
    "small1 = ['neighbourhood_group', 'room_type', 'number_of_reviews']\n",
    "\n",
    "dicts_train_small1 = df_train[small1].to_dict(orient = 'records')\n",
    "dicts_val_small1 = df_val[small1].to_dict(orient = 'records')\n",
    "\n",
    "dv_small1 = DictVectorizer(sparse = False)\n",
    "\n",
    "X_train_small1 = dv_small1.fit_transform(dicts_train_small1)\n",
    "X_val_small1 = dv_small1.transform(dicts_val_small1)\n",
    "\n",
    "model_small1 = LogisticRegression(solver='liblinear', C=1.0, random_state=42)\n",
    "model_small1.fit(X_train_small1, y_train_bin)\n",
    "\n",
    "y_pred = model_small1.predict_proba(X_val_small1)[:, 1]\n",
    "price_above_average = y_pred >= y_train_bin.mean()\n",
    "accuracy1 = ((y_val >=152) == price_above_average).mean()\n",
    "diff = (original_accuracy - accuracy1).round(4)\n",
    "\n",
    "print(\"The model accuracy without the feature reviews_per_month is: \", accuracy)\n",
    "print(\"The accuracy difference is: \", diff)"
   ]
  },
  {
   "cell_type": "code",
   "execution_count": 243,
   "id": "d85c64b9",
   "metadata": {},
   "outputs": [
    {
     "name": "stdout",
     "output_type": "stream",
     "text": [
      "The model accuracy without the feature number_of_reviews is:  0.7543716126393292\n",
      "The accuracy difference is:  0.0009\n"
     ]
    }
   ],
   "source": [
    "small1 = ['neighbourhood_group', 'room_type', 'reviews_per_month']\n",
    "\n",
    "dicts_train_small1 = df_train[small1].to_dict(orient = 'records')\n",
    "dicts_val_small1 = df_val[small1].to_dict(orient = 'records')\n",
    "\n",
    "dv_small1 = DictVectorizer(sparse = False)\n",
    "\n",
    "X_train_small1 = dv_small1.fit_transform(dicts_train_small1)\n",
    "X_val_small1 = dv_small1.transform(dicts_val_small1)\n",
    "\n",
    "model_small1 = LogisticRegression(solver='liblinear', C=1.0, random_state=42)\n",
    "model_small1.fit(X_train_small1, y_train_bin)\n",
    "\n",
    "y_pred = model_small1.predict_proba(X_val_small1)[:, 1]\n",
    "price_above_average = y_pred >= y_train_bin.mean()\n",
    "accuracy1 = ((y_val >=152) == price_above_average).mean()\n",
    "diff = (original_accuracy - accuracy1).round(4)\n",
    "\n",
    "print(\"The model accuracy without the feature number_of_reviews is: \", accuracy)\n",
    "print(\"The accuracy difference is: \", diff)"
   ]
  },
  {
   "cell_type": "code",
   "execution_count": 244,
   "id": "c5bfe8cd",
   "metadata": {},
   "outputs": [
    {
     "name": "stdout",
     "output_type": "stream",
     "text": [
      "The model accuracy without the feature room_type is:  0.7543716126393292\n",
      "The accuracy difference is:  0.0953\n"
     ]
    }
   ],
   "source": [
    "small1 = ['neighbourhood_group', 'number_of_reviews', 'reviews_per_month']\n",
    "\n",
    "dicts_train_small1 = df_train[small1].to_dict(orient = 'records')\n",
    "dicts_val_small1 = df_val[small1].to_dict(orient = 'records')\n",
    "\n",
    "dv_small1 = DictVectorizer(sparse = False)\n",
    "\n",
    "X_train_small1 = dv_small1.fit_transform(dicts_train_small1)\n",
    "X_val_small1 = dv_small1.transform(dicts_val_small1)\n",
    "\n",
    "model_small1 = LogisticRegression(solver='liblinear', C=1.0, random_state=42)\n",
    "model_small1.fit(X_train_small1, y_train_bin)\n",
    "\n",
    "y_pred = model_small1.predict_proba(X_val_small1)[:, 1]\n",
    "price_above_average = y_pred >= y_train_bin.mean()\n",
    "accuracy1 = ((y_val >=152) == price_above_average).mean()\n",
    "diff = (original_accuracy - accuracy1).round(4)\n",
    "\n",
    "print(\"The model accuracy without the feature room_type is: \", accuracy)\n",
    "print(\"The accuracy difference is: \", diff)"
   ]
  },
  {
   "cell_type": "code",
   "execution_count": 245,
   "id": "5e0083bd",
   "metadata": {},
   "outputs": [
    {
     "name": "stdout",
     "output_type": "stream",
     "text": [
      "The model accuracy without the feature neighbourhood_group is:  0.7543716126393292\n",
      "The accuracy difference is:  0.0267\n"
     ]
    }
   ],
   "source": [
    "small1 = ['room_type', 'number_of_reviews', 'reviews_per_month']\n",
    "\n",
    "dicts_train_small1 = df_train[small1].to_dict(orient = 'records')\n",
    "dicts_val_small1 = df_val[small1].to_dict(orient = 'records')\n",
    "\n",
    "dv_small1 = DictVectorizer(sparse = False)\n",
    "\n",
    "X_train_small1 = dv_small1.fit_transform(dicts_train_small1)\n",
    "X_val_small1 = dv_small1.transform(dicts_val_small1)\n",
    "\n",
    "model_small1 = LogisticRegression(solver='liblinear', C=1.0, random_state=42)\n",
    "model_small1.fit(X_train_small1, y_train_bin)\n",
    "\n",
    "y_pred = model_small1.predict_proba(X_val_small1)[:, 1]\n",
    "price_above_average = y_pred >= y_train_bin.mean()\n",
    "accuracy1 = ((y_val >=152) == price_above_average).mean()\n",
    "diff = (original_accuracy - accuracy1).round(4)\n",
    "\n",
    "print(\"The model accuracy without the feature neighbourhood_group is: \", accuracy)\n",
    "print(\"The accuracy difference is: \", diff)"
   ]
  },
  {
   "cell_type": "markdown",
   "id": "8bce34d1",
   "metadata": {},
   "source": [
    "### Question 6"
   ]
  },
  {
   "cell_type": "code",
   "execution_count": 247,
   "id": "f2296ceb",
   "metadata": {},
   "outputs": [],
   "source": [
    "from sklearn.linear_model import Ridge\n",
    "from sklearn.metrics import mean_squared_error\n",
    "from math import sqrt"
   ]
  },
  {
   "cell_type": "code",
   "execution_count": 253,
   "id": "0938f4a2",
   "metadata": {},
   "outputs": [],
   "source": [
    "df.price = df.price.apply(np.log1p)"
   ]
  },
  {
   "cell_type": "code",
   "execution_count": 265,
   "id": "42affd5e",
   "metadata": {},
   "outputs": [],
   "source": [
    "X = df.drop(['price','id','name','host_id', 'host_name','neighbourhood', 'above_average'], axis=1)\n",
    "y = df.price\n",
    "\n",
    "X_train, X_test, y_train, y_test = train_test_split(X, y, test_size=0.2, random_state=42)\n",
    "X_train, X_val, y_train, y_val = train_test_split(X_train, y_train, test_size=0.25, random_state=42)"
   ]
  },
  {
   "cell_type": "code",
   "execution_count": 266,
   "id": "7e60f7eb",
   "metadata": {},
   "outputs": [
    {
     "ename": "ValueError",
     "evalue": "could not convert string to float: 'Brooklyn'",
     "output_type": "error",
     "traceback": [
      "\u001b[1;31m---------------------------------------------------------------------------\u001b[0m",
      "\u001b[1;31mValueError\u001b[0m                                Traceback (most recent call last)",
      "\u001b[1;32m<ipython-input-266-45d800513cf8>\u001b[0m in \u001b[0;36m<module>\u001b[1;34m\u001b[0m\n\u001b[0;32m      1\u001b[0m \u001b[0mridge_model\u001b[0m \u001b[1;33m=\u001b[0m \u001b[0mRidge\u001b[0m\u001b[1;33m(\u001b[0m\u001b[0malpha\u001b[0m\u001b[1;33m=\u001b[0m\u001b[1;36m0\u001b[0m\u001b[1;33m)\u001b[0m\u001b[1;33m\u001b[0m\u001b[1;33m\u001b[0m\u001b[0m\n\u001b[1;32m----> 2\u001b[1;33m \u001b[0mridge_model\u001b[0m\u001b[1;33m.\u001b[0m\u001b[0mfit\u001b[0m\u001b[1;33m(\u001b[0m\u001b[0mX_train\u001b[0m\u001b[1;33m.\u001b[0m\u001b[0mvalues\u001b[0m\u001b[1;33m.\u001b[0m\u001b[0mreshape\u001b[0m\u001b[1;33m(\u001b[0m\u001b[1;33m-\u001b[0m\u001b[1;36m1\u001b[0m\u001b[1;33m,\u001b[0m\u001b[1;36m1\u001b[0m\u001b[1;33m)\u001b[0m\u001b[1;33m,\u001b[0m \u001b[0my_train\u001b[0m\u001b[1;33m)\u001b[0m\u001b[1;33m\u001b[0m\u001b[1;33m\u001b[0m\u001b[0m\n\u001b[0m",
      "\u001b[1;32m~\\anaconda3\\lib\\site-packages\\sklearn\\linear_model\\_ridge.py\u001b[0m in \u001b[0;36mfit\u001b[1;34m(self, X, y, sample_weight)\u001b[0m\n\u001b[0;32m    760\u001b[0m         \u001b[0mself\u001b[0m \u001b[1;33m:\u001b[0m \u001b[0mreturns\u001b[0m \u001b[0man\u001b[0m \u001b[0minstance\u001b[0m \u001b[0mof\u001b[0m \u001b[0mself\u001b[0m\u001b[1;33m.\u001b[0m\u001b[1;33m\u001b[0m\u001b[1;33m\u001b[0m\u001b[0m\n\u001b[0;32m    761\u001b[0m         \"\"\"\n\u001b[1;32m--> 762\u001b[1;33m         \u001b[1;32mreturn\u001b[0m \u001b[0msuper\u001b[0m\u001b[1;33m(\u001b[0m\u001b[1;33m)\u001b[0m\u001b[1;33m.\u001b[0m\u001b[0mfit\u001b[0m\u001b[1;33m(\u001b[0m\u001b[0mX\u001b[0m\u001b[1;33m,\u001b[0m \u001b[0my\u001b[0m\u001b[1;33m,\u001b[0m \u001b[0msample_weight\u001b[0m\u001b[1;33m=\u001b[0m\u001b[0msample_weight\u001b[0m\u001b[1;33m)\u001b[0m\u001b[1;33m\u001b[0m\u001b[1;33m\u001b[0m\u001b[0m\n\u001b[0m\u001b[0;32m    763\u001b[0m \u001b[1;33m\u001b[0m\u001b[0m\n\u001b[0;32m    764\u001b[0m \u001b[1;33m\u001b[0m\u001b[0m\n",
      "\u001b[1;32m~\\anaconda3\\lib\\site-packages\\sklearn\\linear_model\\_ridge.py\u001b[0m in \u001b[0;36mfit\u001b[1;34m(self, X, y, sample_weight)\u001b[0m\n\u001b[0;32m    540\u001b[0m         _accept_sparse = _get_valid_accept_sparse(sparse.issparse(X),\n\u001b[0;32m    541\u001b[0m                                                   self.solver)\n\u001b[1;32m--> 542\u001b[1;33m         X, y = self._validate_data(X, y,\n\u001b[0m\u001b[0;32m    543\u001b[0m                                    \u001b[0maccept_sparse\u001b[0m\u001b[1;33m=\u001b[0m\u001b[0m_accept_sparse\u001b[0m\u001b[1;33m,\u001b[0m\u001b[1;33m\u001b[0m\u001b[1;33m\u001b[0m\u001b[0m\n\u001b[0;32m    544\u001b[0m                                    \u001b[0mdtype\u001b[0m\u001b[1;33m=\u001b[0m\u001b[0m_dtype\u001b[0m\u001b[1;33m,\u001b[0m\u001b[1;33m\u001b[0m\u001b[1;33m\u001b[0m\u001b[0m\n",
      "\u001b[1;32m~\\anaconda3\\lib\\site-packages\\sklearn\\base.py\u001b[0m in \u001b[0;36m_validate_data\u001b[1;34m(self, X, y, reset, validate_separately, **check_params)\u001b[0m\n\u001b[0;32m    431\u001b[0m                 \u001b[0my\u001b[0m \u001b[1;33m=\u001b[0m \u001b[0mcheck_array\u001b[0m\u001b[1;33m(\u001b[0m\u001b[0my\u001b[0m\u001b[1;33m,\u001b[0m \u001b[1;33m**\u001b[0m\u001b[0mcheck_y_params\u001b[0m\u001b[1;33m)\u001b[0m\u001b[1;33m\u001b[0m\u001b[1;33m\u001b[0m\u001b[0m\n\u001b[0;32m    432\u001b[0m             \u001b[1;32melse\u001b[0m\u001b[1;33m:\u001b[0m\u001b[1;33m\u001b[0m\u001b[1;33m\u001b[0m\u001b[0m\n\u001b[1;32m--> 433\u001b[1;33m                 \u001b[0mX\u001b[0m\u001b[1;33m,\u001b[0m \u001b[0my\u001b[0m \u001b[1;33m=\u001b[0m \u001b[0mcheck_X_y\u001b[0m\u001b[1;33m(\u001b[0m\u001b[0mX\u001b[0m\u001b[1;33m,\u001b[0m \u001b[0my\u001b[0m\u001b[1;33m,\u001b[0m \u001b[1;33m**\u001b[0m\u001b[0mcheck_params\u001b[0m\u001b[1;33m)\u001b[0m\u001b[1;33m\u001b[0m\u001b[1;33m\u001b[0m\u001b[0m\n\u001b[0m\u001b[0;32m    434\u001b[0m             \u001b[0mout\u001b[0m \u001b[1;33m=\u001b[0m \u001b[0mX\u001b[0m\u001b[1;33m,\u001b[0m \u001b[0my\u001b[0m\u001b[1;33m\u001b[0m\u001b[1;33m\u001b[0m\u001b[0m\n\u001b[0;32m    435\u001b[0m \u001b[1;33m\u001b[0m\u001b[0m\n",
      "\u001b[1;32m~\\anaconda3\\lib\\site-packages\\sklearn\\utils\\validation.py\u001b[0m in \u001b[0;36minner_f\u001b[1;34m(*args, **kwargs)\u001b[0m\n\u001b[0;32m     61\u001b[0m             \u001b[0mextra_args\u001b[0m \u001b[1;33m=\u001b[0m \u001b[0mlen\u001b[0m\u001b[1;33m(\u001b[0m\u001b[0margs\u001b[0m\u001b[1;33m)\u001b[0m \u001b[1;33m-\u001b[0m \u001b[0mlen\u001b[0m\u001b[1;33m(\u001b[0m\u001b[0mall_args\u001b[0m\u001b[1;33m)\u001b[0m\u001b[1;33m\u001b[0m\u001b[1;33m\u001b[0m\u001b[0m\n\u001b[0;32m     62\u001b[0m             \u001b[1;32mif\u001b[0m \u001b[0mextra_args\u001b[0m \u001b[1;33m<=\u001b[0m \u001b[1;36m0\u001b[0m\u001b[1;33m:\u001b[0m\u001b[1;33m\u001b[0m\u001b[1;33m\u001b[0m\u001b[0m\n\u001b[1;32m---> 63\u001b[1;33m                 \u001b[1;32mreturn\u001b[0m \u001b[0mf\u001b[0m\u001b[1;33m(\u001b[0m\u001b[1;33m*\u001b[0m\u001b[0margs\u001b[0m\u001b[1;33m,\u001b[0m \u001b[1;33m**\u001b[0m\u001b[0mkwargs\u001b[0m\u001b[1;33m)\u001b[0m\u001b[1;33m\u001b[0m\u001b[1;33m\u001b[0m\u001b[0m\n\u001b[0m\u001b[0;32m     64\u001b[0m \u001b[1;33m\u001b[0m\u001b[0m\n\u001b[0;32m     65\u001b[0m             \u001b[1;31m# extra_args > 0\u001b[0m\u001b[1;33m\u001b[0m\u001b[1;33m\u001b[0m\u001b[1;33m\u001b[0m\u001b[0m\n",
      "\u001b[1;32m~\\anaconda3\\lib\\site-packages\\sklearn\\utils\\validation.py\u001b[0m in \u001b[0;36mcheck_X_y\u001b[1;34m(X, y, accept_sparse, accept_large_sparse, dtype, order, copy, force_all_finite, ensure_2d, allow_nd, multi_output, ensure_min_samples, ensure_min_features, y_numeric, estimator)\u001b[0m\n\u001b[0;32m    812\u001b[0m         \u001b[1;32mraise\u001b[0m \u001b[0mValueError\u001b[0m\u001b[1;33m(\u001b[0m\u001b[1;34m\"y cannot be None\"\u001b[0m\u001b[1;33m)\u001b[0m\u001b[1;33m\u001b[0m\u001b[1;33m\u001b[0m\u001b[0m\n\u001b[0;32m    813\u001b[0m \u001b[1;33m\u001b[0m\u001b[0m\n\u001b[1;32m--> 814\u001b[1;33m     X = check_array(X, accept_sparse=accept_sparse,\n\u001b[0m\u001b[0;32m    815\u001b[0m                     \u001b[0maccept_large_sparse\u001b[0m\u001b[1;33m=\u001b[0m\u001b[0maccept_large_sparse\u001b[0m\u001b[1;33m,\u001b[0m\u001b[1;33m\u001b[0m\u001b[1;33m\u001b[0m\u001b[0m\n\u001b[0;32m    816\u001b[0m                     \u001b[0mdtype\u001b[0m\u001b[1;33m=\u001b[0m\u001b[0mdtype\u001b[0m\u001b[1;33m,\u001b[0m \u001b[0morder\u001b[0m\u001b[1;33m=\u001b[0m\u001b[0morder\u001b[0m\u001b[1;33m,\u001b[0m \u001b[0mcopy\u001b[0m\u001b[1;33m=\u001b[0m\u001b[0mcopy\u001b[0m\u001b[1;33m,\u001b[0m\u001b[1;33m\u001b[0m\u001b[1;33m\u001b[0m\u001b[0m\n",
      "\u001b[1;32m~\\anaconda3\\lib\\site-packages\\sklearn\\utils\\validation.py\u001b[0m in \u001b[0;36minner_f\u001b[1;34m(*args, **kwargs)\u001b[0m\n\u001b[0;32m     61\u001b[0m             \u001b[0mextra_args\u001b[0m \u001b[1;33m=\u001b[0m \u001b[0mlen\u001b[0m\u001b[1;33m(\u001b[0m\u001b[0margs\u001b[0m\u001b[1;33m)\u001b[0m \u001b[1;33m-\u001b[0m \u001b[0mlen\u001b[0m\u001b[1;33m(\u001b[0m\u001b[0mall_args\u001b[0m\u001b[1;33m)\u001b[0m\u001b[1;33m\u001b[0m\u001b[1;33m\u001b[0m\u001b[0m\n\u001b[0;32m     62\u001b[0m             \u001b[1;32mif\u001b[0m \u001b[0mextra_args\u001b[0m \u001b[1;33m<=\u001b[0m \u001b[1;36m0\u001b[0m\u001b[1;33m:\u001b[0m\u001b[1;33m\u001b[0m\u001b[1;33m\u001b[0m\u001b[0m\n\u001b[1;32m---> 63\u001b[1;33m                 \u001b[1;32mreturn\u001b[0m \u001b[0mf\u001b[0m\u001b[1;33m(\u001b[0m\u001b[1;33m*\u001b[0m\u001b[0margs\u001b[0m\u001b[1;33m,\u001b[0m \u001b[1;33m**\u001b[0m\u001b[0mkwargs\u001b[0m\u001b[1;33m)\u001b[0m\u001b[1;33m\u001b[0m\u001b[1;33m\u001b[0m\u001b[0m\n\u001b[0m\u001b[0;32m     64\u001b[0m \u001b[1;33m\u001b[0m\u001b[0m\n\u001b[0;32m     65\u001b[0m             \u001b[1;31m# extra_args > 0\u001b[0m\u001b[1;33m\u001b[0m\u001b[1;33m\u001b[0m\u001b[1;33m\u001b[0m\u001b[0m\n",
      "\u001b[1;32m~\\anaconda3\\lib\\site-packages\\sklearn\\utils\\validation.py\u001b[0m in \u001b[0;36mcheck_array\u001b[1;34m(array, accept_sparse, accept_large_sparse, dtype, order, copy, force_all_finite, ensure_2d, allow_nd, ensure_min_samples, ensure_min_features, estimator)\u001b[0m\n\u001b[0;32m    614\u001b[0m                     \u001b[0marray\u001b[0m \u001b[1;33m=\u001b[0m \u001b[0marray\u001b[0m\u001b[1;33m.\u001b[0m\u001b[0mastype\u001b[0m\u001b[1;33m(\u001b[0m\u001b[0mdtype\u001b[0m\u001b[1;33m,\u001b[0m \u001b[0mcasting\u001b[0m\u001b[1;33m=\u001b[0m\u001b[1;34m\"unsafe\"\u001b[0m\u001b[1;33m,\u001b[0m \u001b[0mcopy\u001b[0m\u001b[1;33m=\u001b[0m\u001b[1;32mFalse\u001b[0m\u001b[1;33m)\u001b[0m\u001b[1;33m\u001b[0m\u001b[1;33m\u001b[0m\u001b[0m\n\u001b[0;32m    615\u001b[0m                 \u001b[1;32melse\u001b[0m\u001b[1;33m:\u001b[0m\u001b[1;33m\u001b[0m\u001b[1;33m\u001b[0m\u001b[0m\n\u001b[1;32m--> 616\u001b[1;33m                     \u001b[0marray\u001b[0m \u001b[1;33m=\u001b[0m \u001b[0mnp\u001b[0m\u001b[1;33m.\u001b[0m\u001b[0masarray\u001b[0m\u001b[1;33m(\u001b[0m\u001b[0marray\u001b[0m\u001b[1;33m,\u001b[0m \u001b[0morder\u001b[0m\u001b[1;33m=\u001b[0m\u001b[0morder\u001b[0m\u001b[1;33m,\u001b[0m \u001b[0mdtype\u001b[0m\u001b[1;33m=\u001b[0m\u001b[0mdtype\u001b[0m\u001b[1;33m)\u001b[0m\u001b[1;33m\u001b[0m\u001b[1;33m\u001b[0m\u001b[0m\n\u001b[0m\u001b[0;32m    617\u001b[0m             \u001b[1;32mexcept\u001b[0m \u001b[0mComplexWarning\u001b[0m \u001b[1;32mas\u001b[0m \u001b[0mcomplex_warning\u001b[0m\u001b[1;33m:\u001b[0m\u001b[1;33m\u001b[0m\u001b[1;33m\u001b[0m\u001b[0m\n\u001b[0;32m    618\u001b[0m                 raise ValueError(\"Complex data not supported\\n\"\n",
      "\u001b[1;32m~\\anaconda3\\lib\\site-packages\\numpy\\core\\_asarray.py\u001b[0m in \u001b[0;36masarray\u001b[1;34m(a, dtype, order, like)\u001b[0m\n\u001b[0;32m    100\u001b[0m         \u001b[1;32mreturn\u001b[0m \u001b[0m_asarray_with_like\u001b[0m\u001b[1;33m(\u001b[0m\u001b[0ma\u001b[0m\u001b[1;33m,\u001b[0m \u001b[0mdtype\u001b[0m\u001b[1;33m=\u001b[0m\u001b[0mdtype\u001b[0m\u001b[1;33m,\u001b[0m \u001b[0morder\u001b[0m\u001b[1;33m=\u001b[0m\u001b[0morder\u001b[0m\u001b[1;33m,\u001b[0m \u001b[0mlike\u001b[0m\u001b[1;33m=\u001b[0m\u001b[0mlike\u001b[0m\u001b[1;33m)\u001b[0m\u001b[1;33m\u001b[0m\u001b[1;33m\u001b[0m\u001b[0m\n\u001b[0;32m    101\u001b[0m \u001b[1;33m\u001b[0m\u001b[0m\n\u001b[1;32m--> 102\u001b[1;33m     \u001b[1;32mreturn\u001b[0m \u001b[0marray\u001b[0m\u001b[1;33m(\u001b[0m\u001b[0ma\u001b[0m\u001b[1;33m,\u001b[0m \u001b[0mdtype\u001b[0m\u001b[1;33m,\u001b[0m \u001b[0mcopy\u001b[0m\u001b[1;33m=\u001b[0m\u001b[1;32mFalse\u001b[0m\u001b[1;33m,\u001b[0m \u001b[0morder\u001b[0m\u001b[1;33m=\u001b[0m\u001b[0morder\u001b[0m\u001b[1;33m)\u001b[0m\u001b[1;33m\u001b[0m\u001b[1;33m\u001b[0m\u001b[0m\n\u001b[0m\u001b[0;32m    103\u001b[0m \u001b[1;33m\u001b[0m\u001b[0m\n\u001b[0;32m    104\u001b[0m \u001b[1;33m\u001b[0m\u001b[0m\n",
      "\u001b[1;31mValueError\u001b[0m: could not convert string to float: 'Brooklyn'"
     ]
    }
   ],
   "source": [
    "ridge_model = Ridge(alpha=0)\n",
    "ridge_model.fit(X_train.values.reshape(-1,1), y_train)"
   ]
  }
 ],
 "metadata": {
  "kernelspec": {
   "display_name": "Python 3",
   "language": "python",
   "name": "python3"
  },
  "language_info": {
   "codemirror_mode": {
    "name": "ipython",
    "version": 3
   },
   "file_extension": ".py",
   "mimetype": "text/x-python",
   "name": "python",
   "nbconvert_exporter": "python",
   "pygments_lexer": "ipython3",
   "version": "3.8.8"
  }
 },
 "nbformat": 4,
 "nbformat_minor": 5
}
